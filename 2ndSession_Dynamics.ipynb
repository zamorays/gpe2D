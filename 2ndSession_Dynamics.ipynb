{
 "cells": [
  {
   "cell_type": "markdown",
   "metadata": {
    "collapsed": true,
    "deletable": true,
    "editable": true
   },
   "source": [
    "# $$i\\frac{\\partial\\Psi(x,y,t)}{\\partial t} = -\\frac{1}{2}\\nabla^2 \\Psi (x,y,t)+\\tilde{v}_{2D}\\Psi(x,y,t)+ g_{2D}|\\Psi(x,y,t)|^2\\Psi(x,y,t)$$\n",
    "\n",
    "$$\\iint dxdy |\\Psi|^2 = 1$$"
   ]
  },
  {
   "cell_type": "markdown",
   "metadata": {
    "deletable": true,
    "editable": true
   },
   "source": [
    "> In terms of propagate the dynamical equation, given a initial condition $\\Psi_0$, the numerical method to be used must be as accurate as possible in space and time(with some priority); Spectral(FFT)-Space + RK4 (RK45,RK6), Finite differences-Space + RK4 (RK45,RK6), a high order Split step in time and a SPectral in space ...\n",
    "\n",
    "> Given the parallel nature of CUDA lenguage, implicit methods like Crak-Nicholson that derive in stron no parallel algorithms, ie solve tridiagonal systems give us no the best algorithms to CUDA (see [ref0](http://www.springer.com/cda/content/document/cda_downloaddocument/9783319065472-c1.pdf?SGWID=0-0-45-1469316-p176715543))\n",
    "\n",
    "> In resume we have to find the balance between a explicit numerical (with strong parallel structure) scheme and a high oder integrator in time."
   ]
  },
  {
   "cell_type": "markdown",
   "metadata": {
    "deletable": true,
    "editable": true
   },
   "source": [
    "A good article of why a RK method is a good method for GPE real time propagation, can be found here [ref1](http://dx.doi.org/10.1016/j.apnum.2013.04.002)"
   ]
  },
  {
   "cell_type": "markdown",
   "metadata": {
    "deletable": true,
    "editable": true
   },
   "source": [
    "# TIME = Runge-Kutta [Link](https://en.wikipedia.org/wiki/Runge%E2%80%93Kutta_methods#Adaptive_Runge.E2.80.93Kutta_methods)\n",
    "-----------------------------------\n",
    "\n",
    "### Runge-Kutta 4th Methods\n",
    "\n",
    ">$$ \\dot{y}(t)  =   f(t,y(t))$$\n",
    "\n",
    ">Recurrencia: $$y_{i+1} = y_i + \\frac{1}{6}\\delta t(k_1+2k_2+2k_3+k_4) \\\\$$\n",
    "$$k_1 = f(t_i,y_i) \\\\\n",
    "  k_2 = f(t_i+\\frac{1}{2}\\delta t, y_i+\\frac{1}{2} k_1 \\delta t) \\\\\n",
    "  k_3 = f(t_i+\\frac{1}{2}\\delta t, y_i+\\frac{1}{2} k_2 \\delta t)\\\\\n",
    "  k_4 = f(t_i+\\delta t, y_i + k_3 \\delta t)$$\n",
    "\n",
    "**Hint:** The algoritmh is a chain but is optimal in memory because we need only 2 array to compute the next $k_i$ term and an extra array to store the new state\n",
    "\n",
    " ### Runge-Kutta-Fehlberg Method (RKF45)\n",
    " \n",
    " >$$ \\dot{y}(t)  =   f(t,y(t))$$\n",
    "\n",
    ">Recurrencia 4th Orden: $$y_{i+1} = y_i + \\delta t(\\frac{25}{216}k_1+\\frac{1408}{2565}k_3+\\frac{2197}{4101}k_4-\\frac{1}{5}k_5) \\\\$$\n",
    "\n",
    ">Recurrencia 5th Orden: $$z_{i+1} = y_i + \\delta t(\\frac{16}{135}k_1+\\frac{6656}{12825}k_3+\\frac{28561}{56430}k_4-\\frac{9}{50}k_5+\\frac{2}{55}k_6) \\\\$$\n",
    "$$k_1 = f(t_i,y_i) \\\\\n",
    "  k_2 = f(t_i+\\frac{1}{4}\\delta t, y_i+\\frac{1}{4} k_1\\delta t ) \\\\\n",
    "  k_3 = f(t_i+\\frac{3}{8}\\delta t, y_i+\\frac{3}{32} k_1\\delta t + \\frac{9}{32}k_2\\delta t)\\\\\n",
    "  k_4 = f(t_i+\\frac{12}{13}\\delta t, y_i + \\frac{1932}{2197}k_1\\delta t-\\frac{7200}{2197}k_2\\delta t+\\frac{7296}{2197}k_3\\delta t) \\\\\n",
    "  k_5  = f(t_i+ \\delta t, y_i+\\frac{439}{216}k_1\\delta t-8k_2\\delta t+\\frac{3680}{513}k_3\\delta t-\\frac{845}{4104}k_4\\delta t)\\\\\n",
    "  k_6  =  f(t_i+\\frac{1}{2}\\delta t, y_i-\\frac{8}{27}k_1\\delta t+2k_2\\delta t-\\frac{3544}{2565}k_3\\delta t+\\frac{1859}{4104}k_4\\delta t-\\frac{11}{40}k_5\\delta t)$$\n",
    "  "
   ]
  },
  {
   "cell_type": "markdown",
   "metadata": {
    "deletable": true,
    "editable": true
   },
   "source": [
    "In principle it can be mesured the error in propagation in each time step $\\delta t$ using the differeces $|z_{i+1}-y_{i+1}|<tol$, if is not passed by two approximations then the new time step is $\\delta t/2$"
   ]
  },
  {
   "cell_type": "markdown",
   "metadata": {
    "deletable": true,
    "editable": true
   },
   "source": [
    "# SPACE"
   ]
  },
  {
   "cell_type": "markdown",
   "metadata": {
    "deletable": true,
    "editable": true
   },
   "source": [
    "## Finite Differences [ref2](http://www4.ncsu.edu/~cwsimmon/theory.html)\n",
    "> **Central: 2nd Order Aprroximation** \n",
    "    >> $f'(x_i) = \\frac{f(x_{i+1})-f(x_{i-1})}{2h}+\\mathcal{O}(h^2)$\n",
    "    \n",
    "    >> $f''(x_i) = \\frac{f(x_{i+1})-2f(x_{i})+f(x_{i-1})}{h^2}+\\mathcal{O}(h^2)$\n",
    "    \n",
    "> **Central: 4th Order Aprroximation**\n",
    "    >> $f'(x_i) = \\frac{-f(x_{i+2})+8f(x_{i+1})-8f(x_{i-1}+f(x_{i+2}))}{2h}+\\mathcal{O}(h^4)$\n",
    "    \n",
    "    >> $f''(x_i) = \\frac{-f(x_{i+2})+16f(x_{i+1})-30f(x_{i})+16f(x_{i-1})-f(x_{i-2})}{12h^2}+\\mathcal{O}(h^4)$\n",
    "    \n",
    "## Spectral\n",
    "\n",
    "> $ f'(x_i) \\approx ifft( ik_x fft(f(x_i)) )$\n",
    "\n",
    "> $ f''(x_i) \\approx ifft( -k_x^2 fft(f(x_i)) )$"
   ]
  },
  {
   "cell_type": "markdown",
   "metadata": {
    "deletable": true,
    "editable": true
   },
   "source": [
    "**Let us test following methods: Rk4 + Spectral vs Rk4+FiniteDifferences vs Split+Spectral**"
   ]
  },
  {
   "cell_type": "code",
   "execution_count": 1,
   "metadata": {
    "collapsed": false,
    "deletable": true,
    "editable": true
   },
   "outputs": [
    {
     "name": "stdout",
     "output_type": "stream",
     "text": [
      "Interactive namespace is empty.\n"
     ]
    }
   ],
   "source": [
    "%whos"
   ]
  },
  {
   "cell_type": "code",
   "execution_count": 2,
   "metadata": {
    "collapsed": false,
    "deletable": true,
    "editable": true
   },
   "outputs": [
    {
     "name": "stdout",
     "output_type": "stream",
     "text": [
      "Populating the interactive namespace from numpy and matplotlib\n"
     ]
    }
   ],
   "source": [
    "%pylab inline"
   ]
  },
  {
   "cell_type": "code",
   "execution_count": 3,
   "metadata": {
    "collapsed": false,
    "deletable": true,
    "editable": true
   },
   "outputs": [],
   "source": [
    "# Import all previous work structured in gpe2DRelax.py\n",
    "from gpe2DRelax import *"
   ]
  },
  {
   "cell_type": "code",
   "execution_count": 4,
   "metadata": {
    "collapsed": false,
    "deletable": true,
    "editable": true
   },
   "outputs": [
    {
     "name": "stdout",
     "output_type": "stream",
     "text": [
      "1stSesion_GPE2D.ipynb\t\t\t    gpe2DRelax.pyc\r\n",
      "2dRender.cu\t\t\t\t    GPE Relax.ipynb\r\n",
      "2ndSession_Animation.ipynb\t\t    index.md\r\n",
      "2ndSession_Dynamics.ipynb\t\t    kernelImplicitFFT.cu\r\n",
      "2ndSession_Dynamics_TexturesSurfaces.ipynb  kernelsDynamic.cu\r\n",
      "_config.yml\t\t\t\t    kernelsRelax.cu\r\n",
      "glAnimation2D.py\t\t\t    openGLExample.py\r\n",
      "glAnimation2D.pyc\t\t\t    README.md\r\n",
      "gpe2DRelax.py\t\t\t\t    Untitled.ipynb\r\n"
     ]
    }
   ],
   "source": [
    "! ls"
   ]
  },
  {
   "cell_type": "markdown",
   "metadata": {
    "deletable": true,
    "editable": true
   },
   "source": [
    "[Scritp: gpe2DRelax.py](/edit/gpe2DRelax.py) | [Kernels: kernelsRelax.cu](/edit/kernelsRelax.cu)"
   ]
  },
  {
   "cell_type": "code",
   "execution_count": 5,
   "metadata": {
    "collapsed": false,
    "deletable": true,
    "editable": true
   },
   "outputs": [
    {
     "data": {
      "image/png": "[encoded data removed]",
      "text/plain": [
       "<matplotlib.figure.Figure at 0x7f01190ce610>"
      ]
     },
     "metadata": {},
     "output_type": "display_data"
    }
   ],
   "source": [
    "plotState(abs(Psi_gpu.get()))"
   ]
  },
  {
   "cell_type": "markdown",
   "metadata": {
    "collapsed": false,
    "deletable": true,
    "editable": true
   },
   "source": [
    "whos"
   ]
  },
  {
   "cell_type": "code",
   "execution_count": 6,
   "metadata": {
    "collapsed": false,
    "deletable": true,
    "editable": true
   },
   "outputs": [
    {
     "name": "stdout",
     "output_type": "stream",
     "text": [
      "Variable    Type        Data/Info\n",
      "---------------------------------\n",
      "Psi_gpu     GPUArray    [[ 0.+0.j  0.+0.j  0.+0.j<...> 0.+0.j  0.+0.j  0.+0.j]]\n",
      "Psi_gpu_k   GPUArray    [[ 0.+0.j  0.+0.j  0.+0.j<...> 0.+0.j  0.+0.j  0.+0.j]]\n"
     ]
    }
   ],
   "source": [
    "%whos GPUArray"
   ]
  },
  {
   "cell_type": "code",
   "execution_count": 7,
   "metadata": {
    "collapsed": false,
    "deletable": true,
    "editable": true
   },
   "outputs": [
    {
     "name": "stdout",
     "output_type": "stream",
     "text": [
      "CPU times: user 12.7 s, sys: 9.48 s, total: 22.2 s\n",
      "Wall time: 22.5 s\n"
     ]
    }
   ],
   "source": [
    "%%time\n",
    "for i in range(10000):\n",
    "    implicitRelaxStep()\n",
    "    "
   ]
  },
  {
   "cell_type": "code",
   "execution_count": 8,
   "metadata": {
    "collapsed": false,
    "deletable": true,
    "editable": true
   },
   "outputs": [
    {
     "data": {
      "image/png": "[encoded data removed]",
      "text/plain": [
       "<matplotlib.figure.Figure at 0x7f01528cb9d0>"
      ]
     },
     "metadata": {},
     "output_type": "display_data"
    }
   ],
   "source": [
    "plotState(abs(Psi_gpu.get()))"
   ]
  },
  {
   "cell_type": "code",
   "execution_count": 9,
   "metadata": {
    "collapsed": false,
    "deletable": true,
    "editable": true
   },
   "outputs": [
    {
     "name": "stdout",
     "output_type": "stream",
     "text": [
      "CPU times: user 7.56 s, sys: 3.73 s, total: 11.3 s\n",
      "Wall time: 11.2 s\n"
     ]
    }
   ],
   "source": [
    "%%time\n",
    "for i in range(10000):\n",
    "    splitStrangRelaxStep()"
   ]
  },
  {
   "cell_type": "code",
   "execution_count": 10,
   "metadata": {
    "collapsed": false,
    "deletable": true,
    "editable": true
   },
   "outputs": [
    {
     "data": {
      "image/png": "[encoded data removed]",
      "text/plain": [
       "<matplotlib.figure.Figure at 0x7f01240cc550>"
      ]
     },
     "metadata": {},
     "output_type": "display_data"
    }
   ],
   "source": [
    "plotState(abs(Psi_gpu.get()))"
   ]
  },
  {
   "cell_type": "markdown",
   "metadata": {
    "deletable": true,
    "editable": true
   },
   "source": [
    "# Spectral + RK4 (Global Memory)"
   ]
  },
  {
   "cell_type": "markdown",
   "metadata": {
    "deletable": true,
    "editable": true
   },
   "source": [
    "$$f(x,y) =-i[ -\\frac{1}{2}\\nabla^2 \\Psi (x,y,t)+\\frac{1}{2}(\\gamma_x^2 x^2+\\gamma_y^2 y^2)\\Psi(x,y,t)+ g_{2D}|\\Psi(x,y,t)|^2\\Psi(x,y,t)]$$\n",
    ">Recurrence: $$y_{i+1} = y_i + \\frac{1}{6}\\delta t(k_1+2k_2+2k_3+k_4) \\\\$$\n",
    "$$k_1 = f(t_i,y_i) \\\\\n",
    "  k_2 = f(t_i+\\frac{1}{2}\\delta t, y_i+\\frac{1}{2} k_1 \\delta t) \\\\\n",
    "  k_3 = f(t_i+\\frac{1}{2}\\delta t, y_i+\\frac{1}{2} k_2 \\delta t)\\\\\n",
    "  k_4 = f(t_i+\\delta t, y_i + k_3 \\delta t)$$\n"
   ]
  },
  {
   "cell_type": "code",
   "execution_count": 12,
   "metadata": {
    "collapsed": true,
    "deletable": true,
    "editable": true
   },
   "outputs": [],
   "source": [
    "Psi_gpu_k2 = gpuarray.zeros([Nx,Ny], dtype=precComplex) # aux2\n",
    "Psi_gpu_new = gpuarray.zeros([Nx,Ny], dtype=precComplex)"
   ]
  },
  {
   "cell_type": "code",
   "execution_count": 13,
   "metadata": {
    "collapsed": true,
    "deletable": true,
    "editable": true
   },
   "outputs": [],
   "source": [
    "copy_C(Psi_gpu,Psi_gpu_new)\n",
    "copy_C(Psi_gpu,Psi_gpu_k) # aux"
   ]
  },
  {
   "cell_type": "markdown",
   "metadata": {
    "deletable": true,
    "editable": true
   },
   "source": [
    "At beginning we should have 4 arrays $\\psi_{aux}=\\psi_{old}$ = $\\psi_{new}$, $\\psi_{aux2}$\n",
    "\n",
    " > 1) Calculate $\\nabla_{i,j}^2\\psi_{aux}$ store in an auxiliar $\\psi_{aux2}$\n",
    " \n",
    " > 2) Evaluate $f(t_i,\\psi_{aux})$ to get $k_1$ -> sum contribution to $\\psi_{new}+=\\frac{\\delta t}{6}k_1$ and overwrite $\\psi_{aux}$ $=$ $\\psi_{old}+\\frac{1}{2}k_1\\delta t$ for next laplacian evaluation\n",
    " \n",
    " > 3) Calculate $\\nabla_{i,j}^2\\psi_{aux}$ and store in an auxiliar $\\psi_{aux2}$\n",
    " \n",
    " > 4) Evaluate $f(t_i+\\frac{1}{2}\\delta t,\\psi_{aux})$  to get $k_2$ an -> sum contribution to $\\psi_{new}+=\\frac{2\\delta t}{6}k_2$ and overwrite $\\psi_{aux}$ $=$ $\\psi_{old}+\\frac{1}{2}k_2\\delta t$ for next laplacian evaluation\n",
    " \n",
    " > 5) Calculate $\\nabla_{i,j}^2\\psi_{aux}$ and store in an auxiliar $\\psi_{aux2}$\n",
    " \n",
    "  > 6) Evaluate $f(t_i+\\frac{1}{2}\\delta t,\\psi_{aux})$  to get $k_3$  -> sum contribution to $\\psi_{new}+=\\frac{2\\delta t}{6}k_3$ and overwrite $\\psi_{aux}$ $=$ $\\psi_{old}+k_3\\delta t$ for next laplacian evaluation\n",
    "  \n",
    "  > 7) Calculate $\\nabla_{i,j}^2\\psi_{aux}$ and store in an auxiliar $\\psi_{aux2}$\n",
    "  \n",
    "  > 8) Evaluate $f(t_i+\\delta t,\\psi_{aux})$  to get $k_4$  -> sum contribution to $\\psi_{new}+=\\frac{\\delta t}{6}k_4$ and overwrite $\\psi_{old}=\\psi_{new}$ and $\\psi_{aux}=\\psi_{new}$"
   ]
  },
  {
   "cell_type": "markdown",
   "metadata": {
    "deletable": true,
    "editable": true
   },
   "source": [
    "Then interate from 1) -> 8): Because im  lazy we just use 1 kernels, a common  one $$f_{common}(\\psi_{old},\\psi_{new},k_i,\\nabla_{i,j}^2(\\psi_{old}+\\alpha k_i))$$ "
   ]
  },
  {
   "cell_type": "markdown",
   "metadata": {
    "deletable": true,
    "editable": true
   },
   "source": [
    "Onces we undertand the flow of coding in PyCUDA, A good idea is keep distinct sources of the code in separate source files, python with python, cuda with cuda and so on ... developing in Jupyter has some advantages like this:\n",
    "### [CUDA Kernels Dynamics](http://localhost:8888/edit/kernelsDynamic.cu)"
   ]
  },
  {
   "cell_type": "code",
   "execution_count": 14,
   "metadata": {
    "collapsed": true,
    "deletable": true,
    "editable": true
   },
   "outputs": [],
   "source": [
    "myfile = open('kernelsDynamic.cu')\n",
    "myKern = myfile.read()\n",
    "myfile.close()"
   ]
  },
  {
   "cell_type": "code",
   "execution_count": 15,
   "metadata": {
    "collapsed": false,
    "deletable": true,
    "editable": true,
    "scrolled": false
   },
   "outputs": [],
   "source": [
    "#print myKern"
   ]
  },
  {
   "cell_type": "code",
   "execution_count": 16,
   "metadata": {
    "collapsed": false,
    "deletable": true,
    "editable": true
   },
   "outputs": [],
   "source": [
    "fftRK4K = compileGPU(myKern)"
   ]
  },
  {
   "cell_type": "code",
   "execution_count": 17,
   "metadata": {
    "collapsed": true,
    "deletable": true,
    "editable": true
   },
   "outputs": [],
   "source": [
    "getNablaPSI = fftRK4K.get_function('applyNablaSquare')\n",
    "stepRk4 = fftRK4K.get_function('rk4StepCommon')\n",
    "getEnergyGPU = fftRK4K.get_function('energy_kernel')"
   ]
  },
  {
   "cell_type": "code",
   "execution_count": 18,
   "metadata": {
    "collapsed": false,
    "deletable": true,
    "editable": true
   },
   "outputs": [
    {
     "data": {
      "text/plain": [
       "<pycuda._driver.Function at 0x7f01240e53b0>"
      ]
     },
     "execution_count": 18,
     "metadata": {},
     "output_type": "execute_result"
    }
   ],
   "source": [
    "#int nPointX, int nPointY,cudaPres Lx, cudaPres Ly, pycuda::complex<cudaPres> *fftpsi\n",
    "getNablaPSI.prepare('ii'+2*cString+'P') \n",
    "#cudaPres at, cudaPres ak, cudaPres apsi, \n",
    "#cudaPres time, cudaPres dt,\n",
    "#cudaPres xMin, cudaPres yMin, \n",
    "#cudaPres dx, cudaPres dy, \n",
    "#cudaPres gammaX, cudaPres gammaY,\n",
    "#cudaPres constG, \n",
    "#pycuda::complex<cudaPres> *psi_old,\n",
    "#pycuda::complex<cudaPres> *psi_new,\n",
    "#pycuda::complex<cudaPres> *kaux, \n",
    "#pycuda::complex<cudaPres> *kaux2\n",
    "stepRk4.prepare(cString*12+'PPPP')\n",
    "#cudaPres xMin, cudaPres yMin, \n",
    "#cudaPres dx, cudaPres dy,\n",
    "#cudaPres gammaX, cudaPres gammaY,\n",
    "#cudaPres dt, cudaPres constG,\n",
    "#pycuda::complex<cudaPres> *psi_state,\n",
    "#pycuda::complex<cudaPres> *V2psi,\n",
    "#pycuda::complex<cudaPres> *ki\n",
    "getEnergyGPU.prepare(cString*8+'PP')"
   ]
  },
  {
   "cell_type": "markdown",
   "metadata": {
    "deletable": true,
    "editable": true
   },
   "source": [
    "1) Calculate $\\nabla_{i,j}^2\\psi_{aux}$ store in an auxiliar $\\psi_{aux2}$"
   ]
  },
  {
   "cell_type": "code",
   "execution_count": 19,
   "metadata": {
    "collapsed": false,
    "deletable": true,
    "editable": true
   },
   "outputs": [],
   "source": [
    "gpuFFT.execute(Psi_gpu_k,Psi_gpu_k2)\n",
    "getNablaPSI.prepared_call(gridDims, blockDims,\n",
    "                          Nx,Ny,Lx,Ly,Psi_gpu_k2.gpudata)\n",
    "gpuFFT.execute(Psi_gpu_k2, inverse=True)"
   ]
  },
  {
   "cell_type": "markdown",
   "metadata": {
    "collapsed": true,
    "deletable": true,
    "editable": true
   },
   "source": [
    "2) Evaluate $f(t_i,\\psi_{aux})$ to get $k_1$ -> sum contribution to $\\psi_{new}+=\\frac{\\delta t}{6}k_1$ and overwrite $\\psi_{aux}$ $=$ $\\psi_{old}+\\frac{1}{2}k_1\\delta t$ for next laplacian evaluation"
   ]
  },
  {
   "cell_type": "code",
   "execution_count": 20,
   "metadata": {
    "collapsed": false,
    "deletable": true,
    "editable": true
   },
   "outputs": [],
   "source": [
    "t=0\n",
    "stepRk4.prepared_call(gridDims, blockDims,\n",
    "                      prec(0), prec(0.5), prec(1/6.),prec(t),dtau,\n",
    "                       x_min,y_min,\n",
    "                       dx,dy, gammaX, gammaY, g,\n",
    "                       Psi_gpu.gpudata, Psi_gpu_new.gpudata,\n",
    "                       Psi_gpu_k.gpudata, Psi_gpu_k2.gpudata)\n",
    "                       "
   ]
  },
  {
   "cell_type": "markdown",
   "metadata": {
    "deletable": true,
    "editable": true
   },
   "source": [
    "3) Calculate $\\nabla_{i,j}^2\\psi_{aux}$ store in an auxiliar $\\psi_{aux2}$"
   ]
  },
  {
   "cell_type": "code",
   "execution_count": 21,
   "metadata": {
    "collapsed": false,
    "deletable": true,
    "editable": true
   },
   "outputs": [],
   "source": [
    "gpuFFT.execute(Psi_gpu_k,Psi_gpu_k2)\n",
    "getNablaPSI.prepared_call(gridDims, blockDims,\n",
    "                          Nx,Ny,Lx,Ly,Psi_gpu_k2.gpudata)\n",
    "gpuFFT.execute(Psi_gpu_k2, inverse=True)"
   ]
  },
  {
   "cell_type": "markdown",
   "metadata": {
    "deletable": true,
    "editable": true
   },
   "source": [
    "4) Evaluate $f(t_i+\\frac{1}{2}\\delta t,\\psi_{aux})$  to get $k_2$ an -> sum contribution to $\\psi_{new}+=\\frac{2\\delta t}{6}k_2$ and overwrite $\\psi_{aux}$ $=$ $\\psi_{old}+\\frac{1}{2}k_2\\delta t$ for next laplacian evaluation\n",
    " "
   ]
  },
  {
   "cell_type": "code",
   "execution_count": 22,
   "metadata": {
    "collapsed": true,
    "deletable": true,
    "editable": true
   },
   "outputs": [],
   "source": [
    "stepRk4.prepared_call(gridDims, blockDims,\n",
    "                      prec(0.5), prec(0.5), prec(2/6.),prec(t),dtau,\n",
    "                       x_min,y_min,\n",
    "                       dx,dy, gammaX, gammaY, g,\n",
    "                       Psi_gpu.gpudata, Psi_gpu_new.gpudata,\n",
    "                       Psi_gpu_k.gpudata, Psi_gpu_k2.gpudata)"
   ]
  },
  {
   "cell_type": "markdown",
   "metadata": {
    "deletable": true,
    "editable": true
   },
   "source": [
    "5) Calculate $\\nabla_{i,j}^2\\psi_{aux}$ store in an auxiliar $\\psi_{aux2}$"
   ]
  },
  {
   "cell_type": "code",
   "execution_count": 23,
   "metadata": {
    "collapsed": true,
    "deletable": true,
    "editable": true
   },
   "outputs": [],
   "source": [
    "gpuFFT.execute(Psi_gpu_k,Psi_gpu_k2)\n",
    "getNablaPSI.prepared_call(gridDims, blockDims,\n",
    "                          Nx,Ny,Lx,Ly,Psi_gpu_k2.gpudata)\n",
    "gpuFFT.execute(Psi_gpu_k2, inverse=True)"
   ]
  },
  {
   "cell_type": "markdown",
   "metadata": {
    "deletable": true,
    "editable": true
   },
   "source": [
    "6) Evaluate $f(t_i+\\frac{1}{2}\\delta t,\\psi_{aux})$  to get $k_3$  -> sum contribution to $\\psi_{new}+=\\frac{2\\delta t}{6}k_3$ and overwrite $\\psi_{aux}$ $=$ $\\psi_{old}+k_3\\delta t$ for next laplacian evaluation"
   ]
  },
  {
   "cell_type": "code",
   "execution_count": 24,
   "metadata": {
    "collapsed": true,
    "deletable": true,
    "editable": true
   },
   "outputs": [],
   "source": [
    "stepRk4.prepared_call(gridDims, blockDims,\n",
    "                      prec(0.5), prec(1), prec(2/6.),prec(t),dtau,\n",
    "                       x_min,y_min,\n",
    "                       dx,dy, gammaX, gammaY, g,\n",
    "                       Psi_gpu.gpudata, Psi_gpu_new.gpudata,\n",
    "                       Psi_gpu_k.gpudata, Psi_gpu_k2.gpudata)"
   ]
  },
  {
   "cell_type": "markdown",
   "metadata": {
    "deletable": true,
    "editable": true
   },
   "source": [
    "7) Calculate $\\nabla_{i,j}^2\\psi_{aux}$ store in an auxiliar $\\psi_{aux2}$"
   ]
  },
  {
   "cell_type": "code",
   "execution_count": 25,
   "metadata": {
    "collapsed": true,
    "deletable": true,
    "editable": true
   },
   "outputs": [],
   "source": [
    "gpuFFT.execute(Psi_gpu_k,Psi_gpu_k2)\n",
    "getNablaPSI.prepared_call(gridDims, blockDims,\n",
    "                          Nx,Ny,Lx,Ly,Psi_gpu_k2.gpudata)\n",
    "gpuFFT.execute(Psi_gpu_k2, inverse=True)"
   ]
  },
  {
   "cell_type": "markdown",
   "metadata": {
    "deletable": true,
    "editable": true
   },
   "source": [
    "8) Evaluate $f(t_i+\\delta t,\\psi_{aux})$  to get $k_4$  -> sum contribution to $\\psi_{new}+=\\frac{\\delta t}{6}k_4$ and overwrite $\\psi_{old}=\\psi_{new}$ and $\\psi_{aux}=\\psi_{new}$"
   ]
  },
  {
   "cell_type": "code",
   "execution_count": 26,
   "metadata": {
    "collapsed": true,
    "deletable": true,
    "editable": true
   },
   "outputs": [],
   "source": [
    "stepRk4.prepared_call(gridDims, blockDims,\n",
    "                      prec(1), prec(0), prec(1/6.),prec(t),dtau,\n",
    "                       x_min,y_min,\n",
    "                       dx,dy, gammaX, gammaY, g,\n",
    "                       Psi_gpu.gpudata, Psi_gpu_new.gpudata,\n",
    "                       Psi_gpu_k.gpudata, Psi_gpu_k2.gpudata)"
   ]
  },
  {
   "cell_type": "code",
   "execution_count": 27,
   "metadata": {
    "collapsed": true,
    "deletable": true,
    "editable": true
   },
   "outputs": [],
   "source": [
    "copy_C(Psi_gpu_new,Psi_gpu)\n",
    "copy_C(Psi_gpu_new,Psi_gpu_k)"
   ]
  },
  {
   "cell_type": "code",
   "execution_count": 28,
   "metadata": {
    "collapsed": true,
    "deletable": true,
    "editable": true
   },
   "outputs": [],
   "source": [
    "t += dtau"
   ]
  },
  {
   "cell_type": "code",
   "execution_count": 29,
   "metadata": {
    "collapsed": true,
    "deletable": true,
    "editable": true
   },
   "outputs": [],
   "source": [
    "def fftRk4Step():\n",
    "    global t\n",
    "    gpuFFT.execute(Psi_gpu_k,Psi_gpu_k2)\n",
    "    getNablaPSI.prepared_call(gridDims, blockDims,\n",
    "                          Nx,Ny,Lx,Ly,Psi_gpu_k2.gpudata)\n",
    "    gpuFFT.execute(Psi_gpu_k2, inverse=True)\n",
    "    stepRk4.prepared_call(gridDims, blockDims,\n",
    "                      prec(0), prec(0.5), prec(1/6.),prec(t),dtau,\n",
    "                       x_min,y_min,\n",
    "                       dx,dy, gammaX, gammaY, g,\n",
    "                       Psi_gpu.gpudata, Psi_gpu_new.gpudata,\n",
    "                       Psi_gpu_k.gpudata, Psi_gpu_k2.gpudata)\n",
    "    \n",
    "    gpuFFT.execute(Psi_gpu_k,Psi_gpu_k2)\n",
    "    getNablaPSI.prepared_call(gridDims, blockDims,\n",
    "                          Nx,Ny,Lx,Ly,Psi_gpu_k2.gpudata)\n",
    "    gpuFFT.execute(Psi_gpu_k2, inverse=True)\n",
    "    stepRk4.prepared_call(gridDims, blockDims,\n",
    "                      prec(0.5), prec(0.5), prec(2/6.),prec(t),dtau,\n",
    "                       x_min,y_min,\n",
    "                       dx,dy, gammaX, gammaY, g,\n",
    "                       Psi_gpu.gpudata, Psi_gpu_new.gpudata,\n",
    "                       Psi_gpu_k.gpudata, Psi_gpu_k2.gpudata)\n",
    "    \n",
    "    gpuFFT.execute(Psi_gpu_k,Psi_gpu_k2)\n",
    "    getNablaPSI.prepared_call(gridDims, blockDims,\n",
    "                          Nx,Ny,Lx,Ly,Psi_gpu_k2.gpudata)\n",
    "    gpuFFT.execute(Psi_gpu_k2, inverse=True)\n",
    "    stepRk4.prepared_call(gridDims, blockDims,\n",
    "                      prec(0.5), prec(1), prec(2/6.),prec(t),dtau,\n",
    "                       x_min,y_min,\n",
    "                       dx,dy, gammaX, gammaY, g,\n",
    "                       Psi_gpu.gpudata, Psi_gpu_new.gpudata,\n",
    "                       Psi_gpu_k.gpudata, Psi_gpu_k2.gpudata)\n",
    "    \n",
    "    gpuFFT.execute(Psi_gpu_k,Psi_gpu_k2)\n",
    "    getNablaPSI.prepared_call(gridDims, blockDims,\n",
    "                          Nx,Ny,Lx,Ly,Psi_gpu_k2.gpudata)\n",
    "    gpuFFT.execute(Psi_gpu_k2, inverse=True)\n",
    "    stepRk4.prepared_call(gridDims, blockDims,\n",
    "                      prec(1), prec(0), prec(1/6.),prec(t),dtau,\n",
    "                       x_min,y_min,\n",
    "                       dx,dy, gammaX, gammaY, g,\n",
    "                       Psi_gpu.gpudata, Psi_gpu_new.gpudata,\n",
    "                       Psi_gpu_k.gpudata, Psi_gpu_k2.gpudata)\n",
    "    copy_C(Psi_gpu_new,Psi_gpu)\n",
    "    copy_C(Psi_gpu_new,Psi_gpu_k)\n",
    "    t += dtau"
   ]
  },
  {
   "cell_type": "code",
   "execution_count": 30,
   "metadata": {
    "collapsed": true,
    "deletable": true,
    "editable": true
   },
   "outputs": [],
   "source": [
    "def getEnergyState():\n",
    "    gpuFFT.execute(Psi_gpu,Psi_gpu_k2)\n",
    "    getNablaPSI.prepared_call(gridDims, blockDims,\n",
    "                          Nx,Ny,Lx,Ly,Psi_gpu_k2.gpudata)\n",
    "    gpuFFT.execute(Psi_gpu_k2, inverse=True)\n",
    "    getEnergyGPU.prepared_call(gridDims, blockDims,\n",
    "                       x_min,y_min,\n",
    "                       dx,dy, gammaX, gammaY,\n",
    "                       dtau, g,\n",
    "                       Psi_gpu.gpudata, Psi_gpu_k2.gpudata)\n",
    "    energy = get_integral_C(dx,dy,Psi_gpu_k2).get()\n",
    "    return energy"
   ]
  },
  {
   "cell_type": "code",
   "execution_count": 31,
   "metadata": {
    "collapsed": false,
    "deletable": true,
    "editable": true
   },
   "outputs": [
    {
     "data": {
      "text/plain": [
       "array((8.286437034606934+3.10592440655455e-09j), dtype=complex64)"
      ]
     },
     "execution_count": 31,
     "metadata": {},
     "output_type": "execute_result"
    }
   ],
   "source": [
    "getEnergyState()"
   ]
  },
  {
   "cell_type": "code",
   "execution_count": 32,
   "metadata": {
    "collapsed": false,
    "deletable": true,
    "editable": true
   },
   "outputs": [
    {
     "data": {
      "text/plain": [
       "array(1.0000001192092896, dtype=float32)"
      ]
     },
     "execution_count": 32,
     "metadata": {},
     "output_type": "execute_result"
    }
   ],
   "source": [
    "get_Norm_C(dx,dy,Psi_gpu).get()"
   ]
  },
  {
   "cell_type": "code",
   "execution_count": 33,
   "metadata": {
    "collapsed": false,
    "deletable": true,
    "editable": true
   },
   "outputs": [
    {
     "name": "stdout",
     "output_type": "stream",
     "text": [
      "CPU times: user 15.5 s, sys: 2.17 s, total: 17.7 s\n",
      "Wall time: 17.7 s\n"
     ]
    }
   ],
   "source": [
    "%%time\n",
    "e = []\n",
    "norma = []\n",
    "time = []\n",
    "for i in range(100):\n",
    "    for j in range(100): fftRk4Step()\n",
    "    e.append(getEnergyState())\n",
    "    time.append(dtau*100*(i+1))\n",
    "    norma.append(get_Norm_C(dx,dy,Psi_gpu).get())"
   ]
  },
  {
   "cell_type": "code",
   "execution_count": 34,
   "metadata": {
    "collapsed": false,
    "deletable": true,
    "editable": true
   },
   "outputs": [
    {
     "data": {
      "text/plain": [
       "[<matplotlib.lines.Line2D at 0x7f0118c22150>]"
      ]
     },
     "execution_count": 34,
     "metadata": {},
     "output_type": "execute_result"
    },
    {
     "data": {
      "image/png": "[encoded data removed]",
      "text/plain": [
       "<matplotlib.figure.Figure at 0x7f012413c290>"
      ]
     },
     "metadata": {},
     "output_type": "display_data"
    }
   ],
   "source": [
    "plot(time,array(e).real)\n",
    "#plot(time,array(e).imag)"
   ]
  },
  {
   "cell_type": "code",
   "execution_count": 35,
   "metadata": {
    "collapsed": false,
    "deletable": true,
    "editable": true
   },
   "outputs": [
    {
     "data": {
      "text/plain": [
       "[<matplotlib.lines.Line2D at 0x7f011900fe90>]"
      ]
     },
     "execution_count": 35,
     "metadata": {},
     "output_type": "execute_result"
    },
    {
     "data": {
      "image/png": "[encoded data removed]",
      "text/plain": [
       "<matplotlib.figure.Figure at 0x7f0118fb6950>"
      ]
     },
     "metadata": {},
     "output_type": "display_data"
    }
   ],
   "source": [
    "plot(time,array(norma).real)\n",
    "#plot(time,array(norma).imag)\n",
    "#ylim(0.999999,1.000001)"
   ]
  },
  {
   "cell_type": "code",
   "execution_count": 36,
   "metadata": {
    "collapsed": false,
    "deletable": true,
    "editable": true
   },
   "outputs": [
    {
     "data": {
      "image/png": "[encoded data removed]",
      "text/plain": [
       "<matplotlib.figure.Figure at 0x7f0118ebdbd0>"
      ]
     },
     "metadata": {},
     "output_type": "display_data"
    }
   ],
   "source": [
    "plotState(abs(Psi_gpu.get()))"
   ]
  },
  {
   "cell_type": "code",
   "execution_count": 37,
   "metadata": {
    "collapsed": false,
    "deletable": true,
    "editable": true
   },
   "outputs": [
    {
     "data": {
      "text/plain": [
       "10.001000475022011"
      ]
     },
     "execution_count": 37,
     "metadata": {},
     "output_type": "execute_result"
    }
   ],
   "source": [
    "t"
   ]
  },
  {
   "cell_type": "code",
   "execution_count": 38,
   "metadata": {
    "collapsed": false,
    "deletable": true,
    "editable": true
   },
   "outputs": [
    {
     "data": {
      "text/plain": [
       "array((8.286438941955566-2.2137101041153073e-09j), dtype=complex64)"
      ]
     },
     "execution_count": 38,
     "metadata": {},
     "output_type": "execute_result"
    }
   ],
   "source": [
    "getEnergyState()"
   ]
  },
  {
   "cell_type": "code",
   "execution_count": 39,
   "metadata": {
    "collapsed": false,
    "deletable": true,
    "editable": true
   },
   "outputs": [],
   "source": [
    "DeltaE = max(array(e).real)     - min(array(e).real)\n",
    "DeltaN = max(array(norma).real) - min(array(norma).real)"
   ]
  },
  {
   "cell_type": "code",
   "execution_count": 40,
   "metadata": {
    "collapsed": false,
    "deletable": true,
    "editable": true
   },
   "outputs": [
    {
     "data": {
      "text/plain": [
       "(2.8610229e-06, 2.9802322e-07)"
      ]
     },
     "execution_count": 40,
     "metadata": {},
     "output_type": "execute_result"
    }
   ],
   "source": [
    "DeltaE, DeltaN"
   ]
  },
  {
   "cell_type": "markdown",
   "metadata": {
    "collapsed": true,
    "deletable": true,
    "editable": true
   },
   "source": [
    "### **QUIZ: Implement dynamical evolution with Split-Operator**\n",
    "Idea! \n",
    "\n",
    "Luis -> implements first order\n",
    "\n",
    "Siddhartha -> 2dn order\n",
    "\n",
    "Alexis -> 4th order"
   ]
  },
  {
   "cell_type": "markdown",
   "metadata": {
    "deletable": true,
    "editable": true
   },
   "source": [
    "> - **Orden lieneal** $p=1$ (Lie-Trotter)\n",
    "$$ \\Psi(\\delta t)=e^{\\delta t \\mathcal{L}}e^{\\delta t\\mathcal{N}}\\Psi_0 $$ o $$ \\Psi(\\delta t)=e^{\\delta t\\mathcal{N}}e^{\\delta t \\mathcal{L}}\\Psi_0 $$ y $\\Psi_0 = \\Psi(t_0)$ la condicion inicial\n",
    "\n",
    "> - **Segundo orden** $p=2$ (Strang)\n",
    "$$ \\Psi(\\delta t)=e^{\\delta t \\mathcal{L}/2}e^{\\delta t\\mathcal{N}}e^{\\delta t \\mathcal{L}/2}\\Psi_0 \\equiv \\hat{U}(\\delta t)_{p=2}\\Psi_0$$ o $$ \\Psi(\\delta t)=e^{\\delta t \\mathcal{N}/2}e^{\\delta t\\mathcal{L}}e^{\\delta t \\mathcal{N}/2}\\Psi_0 $$ \n",
    "\n",
    "> - **Cuarto orden** $p=4$ \n",
    "$$ \\Psi(\\delta t)=\\hat{U}(\\omega\\delta t)_{p=2}\\hat{U}((1-2\\omega)\\delta t)_{p=2}\\hat{U}(\\omega\\delta t)_{p=2}\\Psi_0 \\\\ = e^{\\omega\\delta t \\mathcal{N}/2}e^{\\omega\\delta t\\mathcal{L}}\\, e^{(1-\\omega)\\delta t \\mathcal{N}/2}e^{(1-2\\omega)\\delta t\\mathcal{L}}e^{(1-\\omega)\\delta t \\mathcal{N}/2} \\, e^{\\omega\\delta t\\mathcal{L}}e^{\\omega\\delta t \\mathcal{N}/2}  \\\\ = e^{\\omega\\delta t \\mathcal{L}/2}e^{\\omega\\delta t\\mathcal{N}}\\, e^{(1-\\omega)\\delta t \\mathcal{L}/2}e^{(1-2\\omega)\\delta t\\mathcal{N}}e^{(1-\\omega)\\delta t \\mathcal{L}/2} \\, e^{\\omega\\delta t\\mathcal{N}}e^{\\omega\\delta t \\mathcal{L}/2},$$ $\\omega = \\frac{2+2^{1/3}+2^{-1/3}}{3}$"
   ]
  },
  {
   "cell_type": "code",
   "execution_count": null,
   "metadata": {
    "collapsed": true,
    "deletable": true,
    "editable": true
   },
   "outputs": [],
   "source": []
  }
 ],
 "metadata": {
  "kernelspec": {
   "display_name": "Python 2",
   "language": "python",
   "name": "python2"
  },
  "language_info": {
   "codemirror_mode": {
    "name": "ipython",
    "version": 2
   },
   "file_extension": ".py",
   "mimetype": "text/x-python",
   "name": "python",
   "nbconvert_exporter": "python",
   "pygments_lexer": "ipython2",
   "version": "2.7.12"
  }
 },
 "nbformat": 4,
 "nbformat_minor": 1
}
